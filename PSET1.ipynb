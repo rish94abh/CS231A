{
 "cells": [
  {
   "cell_type": "markdown",
   "metadata": {
    "id": "LBciS_TD3JVl"
   },
   "source": [
    "# CS231a PSET 1\n",
    "\n",
    "You can use this Jupyter/Colab notebook to write your code in, which could save you the trouble of having to set up Python or installing packages."
   ]
  },
  {
   "cell_type": "markdown",
   "metadata": {},
   "source": [
    "# [Optional] Colab Preparation\n",
    "First, we need to be able to access the data for this problem. Run the following:"
   ]
  },
  {
   "cell_type": "code",
   "execution_count": null,
   "metadata": {
    "id": "nAgQT2NoY4h0"
   },
   "outputs": [],
   "source": [
    "from google.colab import drive\n",
    "\n",
    "drive.mount('/content/drive', force_remount=True)\n",
    "\n",
    "# enter the foldername in your Drive where you have saved the unzipped\n",
    "# the files containing the '.npy' files needed for problem 2\n",
    "# e.g. '/content/drive/MyDrive/cs231a'\n",
    "FOLDERNAME = 'cs231a'\n",
    "\n",
    "assert FOLDERNAME is not None, \"[!] Enter the foldername.\"\n",
    "\n",
    "%cd drive/MyDrive/$FOLDERNAME\n",
    "print('Files in this folder:')\n",
    "%ls ."
   ]
  },
  {
   "cell_type": "markdown",
   "metadata": {},
   "source": [
    "Also import the problem functions with autoreload:"
   ]
  },
  {
   "cell_type": "code",
   "execution_count": null,
   "metadata": {},
   "outputs": [],
   "source": [
    "%load_ext autoreload\n",
    "%autoreload 2\n",
    "\n",
    "from p2 import compute_camera_matrix, rms_error, test_p2\n",
    "from p3 import (\n",
    "    compute_vanishing_point,\n",
    "    compute_K_from_vanishing_points,\n",
    "    compute_angle_between_planes,\n",
    "    compute_rotation_matrix_between_cameras,\n",
    "    test_p3,\n",
    ")"
   ]
  },
  {
   "cell_type": "markdown",
   "metadata": {
    "id": "eQVcAYd8ZjWh"
   },
   "source": [
    "# Problem 2: Affine Camera Calibration\n",
    "Now, you can fill out the logic for this problem. Please go to `p2.py` and fill out the following functions:\n",
    "- `compute_camera_matrix`\n",
    "- `rms_error`\n",
    "\n",
    "Once done, you can run the follow code to test your implementation. `p2.py` will be submitted to Gradescope."
   ]
  },
  {
   "cell_type": "code",
   "execution_count": null,
   "metadata": {
    "id": "DAnLg3_DZpTn"
   },
   "outputs": [],
   "source": [
    "# Test code for CS231A Homework 1, Problem 2\n",
    "test_p2()"
   ]
  },
  {
   "cell_type": "markdown",
   "metadata": {
    "id": "ze1lB1gqbT4I"
   },
   "source": [
    "# Problem 3: Single View Geometry\n",
    "\n",
    "First, make sure you have already run the code block for having access to image files from Problem 2. Next, please go to `p3.py` and fill out the following functions:\n",
    "- `compute_vanishing_point`\n",
    "- `compute_K_from_vanishing_points`\n",
    "- `compute_angle_between_planes`\n",
    "- `compute_rotation_matrix_between_cameras`\n",
    "\n",
    "Once done, you can run the follow code to test your implementation. `p3.py` will be submitted to Gradescope."
   ]
  },
  {
   "cell_type": "code",
   "execution_count": null,
   "metadata": {
    "id": "DcevGmVvbzHq"
   },
   "outputs": [],
   "source": [
    "# Test code for CS231A Homework 1, Problem 3\n",
    "test_p3()"
   ]
  },
  {
   "cell_type": "markdown",
   "metadata": {
    "id": "5b6jy1S0cjmU"
   },
   "source": [
    "That's it, you are done! Remember to submit your code to Gradescope by zipping the `.py` files and uploading the zip file to the coding assignment.\n",
    "\n"
   ]
  }
 ],
 "metadata": {
  "accelerator": "GPU",
  "colab": {
   "provenance": []
  },
  "kernelspec": {
   "display_name": "Python 3 (ipykernel)",
   "language": "python",
   "name": "python3"
  },
  "language_info": {
   "codemirror_mode": {
    "name": "ipython",
    "version": 3
   },
   "file_extension": ".py",
   "mimetype": "text/x-python",
   "name": "python",
   "nbconvert_exporter": "python",
   "pygments_lexer": "ipython3",
   "version": "3.9.7"
  },
  "vscode": {
   "interpreter": {
    "hash": "944e8048bd0f6ff5585240a2597f4f4a37fcf4bdf49bc1e417c867d495ffd417"
   }
  }
 },
 "nbformat": 4,
 "nbformat_minor": 4
}
